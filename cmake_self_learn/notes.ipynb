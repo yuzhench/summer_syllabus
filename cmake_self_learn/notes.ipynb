{
 "cells": [
  {
   "cell_type": "markdown",
   "metadata": {},
   "source": [
    "[other version(not clear answer)](https://cmake.org/cmake/help/book/mastering-cmake/cmake/Help/guide/tutorial/index.html#adding-usage-requirements-for-library-step-3)"
   ]
  },
  {
   "cell_type": "markdown",
   "metadata": {},
   "source": [
    "## [step2](https://cmake.org/cmake/help/latest/guide/tutorial/Adding%20a%20Library.html)"
   ]
  },
  {
   "cell_type": "markdown",
   "metadata": {},
   "source": [
    "1. #pragma once:\n",
    "    -  is a preprocessor directive used in C and C++ programming languages. It is placed at the very beginning of header files to ensure that the contents of the file are only included once during the compilation process, even if the header file is included multiple times by the source files."
   ]
  },
  {
   "cell_type": "code",
   "execution_count": null,
   "metadata": {
    "vscode": {
     "languageId": "plaintext"
    }
   },
   "outputs": [],
   "source": [
    "#ifndef SOME_UNIQUE_NAME_H\n",
    "#define SOME_UNIQUE_NAME_H\n",
    "\n",
    "// content of the header file\n",
    "\n",
    "#endif"
   ]
  },
  {
   "cell_type": "code",
   "execution_count": null,
   "metadata": {
    "vscode": {
     "languageId": "plaintext"
    }
   },
   "outputs": [],
   "source": [
    "#pragma once\n",
    "\n",
    "// content of the header file"
   ]
  },
  {
   "cell_type": "markdown",
   "metadata": {},
   "source": [
    "## 2. add_library(yuzhen_function mysqrt.cxx):\n",
    "- ### definition:\n",
    "    - The add_library command in a CMakeLists.txt file is used to define a library to be built from specified source files\n",
    "- ### syntax: \n",
    "    - **Library Name**: yuzhen_function is the name of the library. This is how it will be referred to within CMake and how it will typically be referred to by other parts of your project that wish to link against it.\n",
    "\n",
    "    - **Source Files**: mysqrt.cxx is the source file from which the library will be compiled. If there are multiple source files, they can all be listed here separated by spaces.\n",
    "\n",
    "    - **Type of Library**: By default, if you don't specify otherwise, add_library will create a static library. You can also specify SHARED to create a shared library, or MODULE for a module library (which is a plugin and not linked into other targets but may be loaded dynamically at runtime).\n",
    "\n",
    "- ### What Happens When This Command Runs?\n",
    "    - **Building the Library**: During the build process, CMake will compile mysqrt.cxx into an object file and then archive it into a library named libyuzhen_function.a (on Unix-like systems) or yuzhen_function.lib (on Windows) if it's static. If it's a shared library, it would be libyuzhen_function.so, libyuzhen_function.dylib, or yuzhen_function.dll on Linux, macOS, and Windows, respectively.\n",
    "\n",
    "    - **Using the Library**: Once the library is built, it can be linked to other targets (executables or other libraries) within the same project using the target_link_libraries command. For example, if you have an executable in the same CMakeLists.txt file:"
   ]
  },
  {
   "cell_type": "markdown",
   "metadata": {},
   "source": [
    "## 3. add_subdirectory(MathFunctions)\n",
    "- ## what does this command do:\n",
    "    - The add_subdirectory() command in CMake does not create a new directory or move source code into it. Instead, it is used to include an existing directory that is part of the project's source tree into the build process. This directory **must already** contain its own CMakeLists.txt file and possibly additional source files needed for building a component of the project, such as a library or an executable."
   ]
  },
  {
   "cell_type": "markdown",
   "metadata": {},
   "source": [
    "## 4. target_link_libraries(Turorial PUBLIC MathFunctions)\n",
    "- ### what does this command do: \n",
    "    - specify which libraries your project targets (such as executables or other libraries) need to link against. which means after run the command \"target_link_libraries()\" the target project can then call the library helper fuction.\n",
    "- ### the different between PUBLIC VS PRIVATE VS INTERFACE\n",
    "- background structure: \n",
    "    - libutils: defined all the math helper function \n",
    "    - app: is a target which need the function defined in the libutils \n",
    "    - test_project: a bigger target that need the function defiend in app \n",
    "### Understanding `target_link_libraries` Keywords in CMake\n",
    "\n",
    "In CMake, the `target_link_libraries()` command is crucial for defining how different targets (executables, libraries) interact with each other regarding their dependencies. Here's a breakdown of how each keyword (`PRIVATE`, `PUBLIC`, `INTERFACE`) affects the usability of linked libraries:\n",
    "\n",
    "#### Using `PRIVATE`\n",
    "- **What happens**: `app` links against `libutils`, allowing `app` to use all functionalities from `libutils` internally.\n",
    "- **Impact on `test_project`**: If `test_project` links against `app`, it **does not inherit** the linkage to `libutils`. Hence, `test_project` cannot directly use any functions or classes from `libutils`. This is because `app` has linked `libutils` as `PRIVATE`, meaning its dependencies are not propagated to other targets that link against it.\n",
    "\n",
    "#### Using `PUBLIC`\n",
    "- **What happens**: `app` links against `libutils`, making all functionalities from `libutils` available to `app`. Additionally, this linkage is propagated to `test_project` when it links against `app`.\n",
    "- **Impact on `test_project`**: `test_project` can use `libutils'` functions and classes directly because they are inherited through the `PUBLIC` linkage from `app`. This means that the linkage and the associated interface requirements (include paths, compile definitions) are shared with both `app` and any targets linking against `app`.\n",
    "\n",
    "#### Using `INTERFACE`\n",
    "- **What happens**: `app` does not use the functionalities from `libutils` directly but declares that any targets linking against `app` will require `libutils`.\n",
    "- **Impact on `app`**: `app` itself cannot use functionalities from `libutils` as it is linked via `INTERFACE`, which means \"I don't need this myself, but anyone who uses me will need it.\"\n",
    "- **Impact on `test_project`**: `test_project` can use functionalities from `libutils` because `app` specifies that linking against `app` necessitates also linking against `libutils` through `INTERFACE`. Thus, `test_project` is indirectly required to link against `libutils` due to its dependency on `app`.\n",
    "\n",
    "### Summary\n",
    "- **`PRIVATE`**: Indicates that the linked library is only required by the target itself, and its dependencies should not be propagated to dependent targets.\n",
    "- **`PUBLIC`**: Suggests that both the target and anything that links to the target will need the linked libraries.\n",
    "- **`INTERFACE`**: Used for dependencies that are not required by the target itself but are necessary for targets that depend on this target.\n",
    "\n",
    "This nuanced approach to managing dependencies in CMake ensures modular, maintainable, and clear configuration of project dependencies.\n"
   ]
  },
  {
   "cell_type": "markdown",
   "metadata": {},
   "source": [
    "## 5. 'target_include_directories(Tutorial PUBLIC\n",
    "##                        \"${PROJECT_BINARY_DIR}\"\n",
    "##                        \"${PROJECT_SOURCE_DIR}/MathFunctions\"\n",
    "##                       )'\n",
    "\n",
    "### - what does this command do: \n",
    "- The `target_include_directories` command in CMake is used to specify the directories where the compiler should look for header files. This is crucial for resolving #include directives in your source files.\n",
    "\n",
    "- **Include Directories:**\n",
    "\n",
    "`\"${PROJECT_BINARY_DIR}\"`: This directory is typically where CMake generates **build files**, including any files that are generated during the configuration process. For example, if you have configured header files like TutorialConfig.h that are generated into the binary directory, specifying this directory ensures that these headers can be included in your source files.\n",
    "\n",
    "`\"${PROJECT_SOURCE_DIR}/MathFunctions\"`: This directory is specified to tell the compiler where to find additional headers related to the MathFunctions part of your project. PROJECT_SOURCE_DIR refers to the top-level directory of your project (where the main CMakeLists.txt is located). This path is useful for including headers from a specific subdirectory within your project structure which in this case, is MathFunctions."
   ]
  },
  {
   "cell_type": "markdown",
   "metadata": {},
   "source": [
    "## 6. `option(USE_MYMATH \"Use tutorial provided math implementation\" ON)`\n",
    "- ### what does this command do:\n",
    " The option command in CMake is used to define a variable that can be set by the user when configuring the build environment. It primarily acts as a switch that the user can toggle between ON or OFF to enable or disable certain features or behaviors in the build process. \n",
    "\n",
    "- ### CMake `option` Command\n",
    "\n",
    "The `option` command is used in CMake to define a toggleable variable that influences the build configuration. Below are the details of this command:\n",
    "\n",
    "  - **Variable Name**: `USE_MYMATH`\n",
    "    - **Description**: This is the identifier for the variable. In your CMake scripts, you can assess the value of `USE_MYMATH` to conditionally perform operations like including directories, compiling code, linking libraries, or setting compiler definitions.\n",
    "    \n",
    "  - **Description**: \"Use tutorial provided math implementation\"\n",
    "    - **Explanation**: This human-readable string explains what toggling the option will affect. It is especially useful in interfaces like CMake GUI, where users can easily understand and control this option.\n",
    "    \n",
    "  - **Default Value**: `ON`\n",
    "    - **Implication**: Sets the initial state of `USE_MYMATH` to `ON`. With this default setting, the build configuration will proceed under the assumption that the tutorial's provided math implementation should be used unless the user explicitly opts out.\n",
    "\n",
    "#### Example Usage\n",
    "\n",
    "```cmake\n",
    "if(USE_MYMATH)\n",
    "    add_subdirectory(MathFunctions)  # Include this directory if USE_MYMATH is ON\n",
    "    target_link_libraries(Tutorial PUBLIC MathFunctions)\n",
    "    target_compile_definitions(Tutorial PUBLIC USE_MYMATH)\n",
    "endif()"
   ]
  },
  {
   "cell_type": "markdown",
   "metadata": {},
   "source": [
    "## 7.\n",
    "- list(APPEND EXTRA_LIBS MathFunctions)\n",
    "- list(APPEND EXTRA_INCLUDES \"${PROJECT_SOURCE_DIR}/MathFunctions\")\n",
    "### Understanding `list(APPEND ...)` Commands in CMake\n",
    "\n",
    "The `list(APPEND ...)` commands in CMake are used to modify lists, which are variables that hold a sequence of values. These commands play a crucial role in dynamically managing project configurations, particularly for linking libraries and including directories. Here’s what each line accomplishes:\n",
    "\n",
    "1. **Appending Libraries with `list(APPEND EXTRA_LIBS MathFunctions)`**\n",
    "   - This command appends `MathFunctions` to the list variable `EXTRA_LIBS`. The list `EXTRA_LIBS` is typically used later in the build process to specify additional libraries that targets should link against. By appending `MathFunctions` to this list, you ensure that any target that uses the `EXTRA_LIBS` list will link against the `MathFunctions` library.\n",
    "\n",
    "2. **Appending Include Directories with `list(APPEND EXTRA_INCLUDES \"${PROJECT_SOURCE_DIR}/MathFunctions\")`**\n",
    "   - This command appends the path to the `MathFunctions` directory, located relative to the project's source directory, to the list variable `EXTRA_INCLUDES`. The `EXTRA_INCLUDES` list is commonly used to specify additional directories where the compiler should look for header files. Including this directory ensures that any file within the project that compiles against the `EXTRA_INCLUDES` list can include headers located in `MathFunctions`.\n",
    "\n",
    "### Usage Example of `EXTRA_LIBS` and `EXTRA_INCLUDES`\n",
    "\n",
    "These `list(APPEND ...)` commands are useful for managing project configuration dynamically based on certain conditions. By structuring your CMake files this way, you enable a modular configuration where components like libraries and include paths can be added or removed based on the configuration options provided by the user.\n",
    "\n",
    "Later in your `CMakeLists.txt`, you might find commands like these to utilize the lists:\n",
    "\n",
    "```cmake\n",
    "# Define an executable or another target\n",
    "add_executable(MyExecutable some_source_file.cpp)\n",
    "\n",
    "# Link libraries from the EXTRA_LIBS list\n",
    "target_link_libraries(MyExecutable PUBLIC ${EXTRA_LIBS})\n",
    "\n",
    "# Include directories from the EXTRA_INCLUDES list\n",
    "target_include_directories(MyExecutable PUBLIC ${EXTRA_INCLUDES})\n"
   ]
  },
  {
   "cell_type": "markdown",
   "metadata": {},
   "source": [
    "## 8. target_compile_definitions(MathFunctions PRIVATE \"USE_MYMATH\")\n",
    "- ### the command works for: \n",
    "The CMake command target_compile_definitions() is used to add preprocessor definitions to a target, such as a library or executable. These definitions are used during the compilation of the target's source files.  \n",
    "\n",
    "- ### breakdown of the command: \n",
    "    - 1. **Target:**  MathFunctions is the target for which the compile definition is being set. This target should be a previously defined library or executable in your CMake setup.\n",
    "    - 2. **Visibility (PRIVATE):**  The PRIVATE keyword specifies the scope of the definition. When set to PRIVATE, the definition is added only to the specified target, MathFunctions, and it does not propagate to other targets that may link against it. This means the definition USE_MYMATH is only available in the source files of MathFunctions, and not in any other targets that might use MathFunctions.\n",
    "    - 3. **Definition:**  \"USE_MYMATH\" is the preprocessor definition being added. This results in the preprocessor directive #define USE_MYMATH being added to the compilation of all source files of the MathFunctions library. It effectively acts as if you manually added #define USE_MYMATH at the top of each source file in the MathFunctions target.\n",
    " \n"
   ]
  },
  {
   "cell_type": "markdown",
   "metadata": {},
   "source": []
  },
  {
   "cell_type": "markdown",
   "metadata": {},
   "source": [
    "### <span style=\"color: red;\">Condusion: why in the step2 when i add the #cmakedefine USE_MYMATH in the .h.in file even if i set the USE_MYMATH to ON it still dwefault to OFF</span>"
   ]
  },
  {
   "cell_type": "markdown",
   "metadata": {},
   "source": [
    "## [step3](https://cmake.org/cmake/help/latest/guide/tutorial/Adding%20Usage%20Requirements%20for%20a%20Library.html) "
   ]
  },
  {
   "cell_type": "markdown",
   "metadata": {},
   "source": [
    "# exercise 1\n",
    "## why we need Usage Requirements (modern way) to build out cmake system\n",
    "\n",
    "- ## old version:\n",
    "    1. in the top_level cmakelist.txt include add the low level lib source directory. \n",
    "        - for example: `list(APPEND EXTRA_INCLUDES \"${PROJECT_SOURCE_DIR}/MathFunctions\")` && `target_include_directories(Tutorial PUBLIC \"${PROJECT_BINARY_DIR}\" ${EXTRA_INCLUDES})`\n",
    "    2. at the same time you also need to link the library to the project: \n",
    "        - for example: `target_link_libraries(Tutorial PUBLIC MathFunctions)`\n",
    "    - **disadvantage**: once you change the low level library structure, you also need to change the toplevel cmakelist.txt file which is hard to maintenance  \n",
    "- ## modern version: \n",
    "    1. **Decoupling:** \n",
    "    Tutorial doesn't need to know where MathFunctions's headers are located. It just needs to link against MathFunctions, and all necessary compile options, preprocessor definitions, and include directories are automatically handled.\n",
    "    2. **Simplified Maintenance:**\n",
    "    Changes in how MathFunctions is built or where its files are located are encapsulated within its own CMakeLists.txt. Other parts of your project that use MathFunctions do not need to be altered.\n",
    "    3. change in the top level cmakelist.txt: \n",
    "        - remove the local level source diredtory from the `target_include_directories()`. \n",
    "        - add the `target_include_directories()` in the low level cmakelist.txt file. \\\n",
    "            - for example `target_include_directories(MathFunctions INTERFACE ${CMAKE_CURRENT_SOURCE_DIR})`"
   ]
  },
  {
   "cell_type": "markdown",
   "metadata": {},
   "source": [
    "# exercise 2\n",
    "\n",
    "## why we need to set the C++ Standard with Interface Libraries\n",
    "\n",
    "- ## old version: set the c++ standard level global\n",
    "    - for example: ``set(CMAKE_CXX_STANDARD 11) && set(CMAKE_CXX_STANDARD_REQUIRED True)``\n",
    "    - shortcome: \n",
    "        all the target libraries use the same c++ standard level \n",
    "- ## new version: use the interface libraries\n",
    "    - advantage: \n",
    "        1. **Flexibility:** You can easily manage different C++ standards across different targets without modifying each target's settings manually.\n",
    "        2. **Reusability:** The interface library approach allows you to define common compile settings in one place and reuse them across multiple targets, reducing duplication and potential for errors.\n",
    "    - propertoes:\n",
    "        1. **Target-Specific Settings**: set the C++ standard and other compile options specifically for targets that need them, rather than globally for all targets in the project. && This is particularly useful in projects with multiple targets that might not all require the same compile settings.\n",
    "        2. **Transitive Usage Requirements:** When you set properties on an interface library, those properties are transitively applied to any target that links against the library.  \n",
    "\n",
    "- ## the new version syntax: \n",
    "    - `add_library(tutorial_compiler_flags INTERFACE)` \n",
    "        - 1. `add_library`:  is used to define a new library target in CMake. A library in CMake can be static, shared, or interface.\n",
    "        - 2. `INTERFACE`: type means that this library does not produce any build output (like .a or .so files). Instead, it's used to propagate usage requirements to other targets that link against this library.\n",
    "        - 3. `tutorial_compiler_flags` is the name of the library target. This name is used when other targets in the CMake project link to this library.\n",
    "        - Interface libraries are a way to add compile options, definitions, include directories, etc., that are needed by other targets without linking against an actual binary. This is useful for setting up compile options that should be used by multiple targets.\n",
    "    - `target_compile_features(tutorial_compiler_flags INTERFACE cxx_std_11)`\n",
    "        - 1. `target_compile_features` specifies the C++ feature requirements for a target. This command is used to declare that the target needs certain compiler features to build.\n",
    "        - 2. `cpp_standard` is the target for which the features are being declared.\n",
    "        - 3. `INTERFACE` keyword indicates that the feature requirement is not for the cpp_standard target itself (since it compiles no source), but for any targets that link to cpp_standard.\n",
    "        - 4. `cxx_std_11` ensures that the C++11 standard is used. This feature is part of a standardized list of compile features that CMake understands, which translate to compiler flags that enable the corresponding C++ standard.\n",
    "\n"
   ]
  },
  {
   "cell_type": "markdown",
   "metadata": {},
   "source": []
  }
 ],
 "metadata": {
  "language_info": {
   "name": "python"
  }
 },
 "nbformat": 4,
 "nbformat_minor": 2
}
