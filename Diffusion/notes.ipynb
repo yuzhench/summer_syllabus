{
 "cells": [
  {
   "cell_type": "markdown",
   "metadata": {},
   "source": [
    "## 1. the disucssion notes \n",
    "1. the differece between DDPM and DDIM: \n",
    "    - DDPM is actuall a model \n",
    "    - DDIM is a method about how to set up and use the Model "
   ]
  },
  {
   "cell_type": "markdown",
   "metadata": {},
   "source": []
  }
 ],
 "metadata": {
  "language_info": {
   "name": "python"
  }
 },
 "nbformat": 4,
 "nbformat_minor": 2
}
