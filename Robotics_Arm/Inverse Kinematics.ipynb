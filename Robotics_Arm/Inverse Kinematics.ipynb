{
 "cells": [
  {
   "cell_type": "markdown",
   "metadata": {},
   "source": [
    "# Lecture notes"
   ]
  },
  {
   "cell_type": "markdown",
   "metadata": {},
   "source": [
    "## [video1](https://www.youtube.com/watch?v=1-FJhmey7vk&list=PL1YrgW7ROFofBqPGiWAmTqIwDc5SrzZrA&index=9)\n",
    "\n",
    "\n",
    "![Alt text](./images/ik_1_1.png)\n",
    "![Alt text](./images/ik_1_2.png)\n",
    "![Alt text](./images/ik_1_3.png)\n",
    "![Alt text](./images/ik_1_4.png)\n",
    "![Alt text](./images/ik_1_5.png)\n",
    "\n"
   ]
  },
  {
   "cell_type": "markdown",
   "metadata": {},
   "source": [
    "## [video2](https://www.youtube.com/watch?v=EzZDRwmk8Nw&list=PL1YrgW7ROFofBqPGiWAmTqIwDc5SrzZrA&index=10)\n",
    "\n",
    "![Alt text](./images/ik_2_1.png)\n",
    "![Alt text](./images/ik_2_2.png)\n",
    "![Alt text](./images/ik_2_3.png)\n",
    "![Alt text](./images/ik_2_4.png)\n",
    "![Alt text](./images/ik_2_5.png)\n",
    "![Alt text](./images/ik_2_6.png)\n",
    "\n"
   ]
  },
  {
   "cell_type": "markdown",
   "metadata": {},
   "source": []
  }
 ],
 "metadata": {
  "language_info": {
   "name": "python"
  }
 },
 "nbformat": 4,
 "nbformat_minor": 2
}
