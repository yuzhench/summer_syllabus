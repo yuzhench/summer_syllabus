{
 "cells": [
  {
   "cell_type": "markdown",
   "metadata": {},
   "source": [
    "# Notes"
   ]
  },
  {
   "cell_type": "markdown",
   "metadata": {},
   "source": [
    "## [video 1](https://www.youtube.com/watch?v=Wud3aCXiSm8&list=PL1YrgW7ROFofBqPGiWAmTqIwDc5SrzZrA&index=12)\n",
    "## calculate the end effector velocity based on the rtobot configurations and each joint angular spead"
   ]
  },
  {
   "cell_type": "markdown",
   "metadata": {},
   "source": [
    "![Alt text](./images/v_1_1.png)\n",
    "![Alt text](./images/v_1_2.png)\n",
    "![Alt text](./images/v_1_3.png)\n",
    "![Alt text](./images/v_1_4.png)"
   ]
  },
  {
   "cell_type": "markdown",
   "metadata": {},
   "source": [
    "## [video 2](https://www.youtube.com/watch?v=gdSTcJwf3L0&list=PL1YrgW7ROFofBqPGiWAmTqIwDc5SrzZrA&index=12) \n",
    "## velocity ellipsoid"
   ]
  },
  {
   "cell_type": "markdown",
   "metadata": {},
   "source": [
    "![Alt text](./images/v_2_1.png)\n",
    "![Alt text](./images/v_2_2.png)\n",
    "![Alt text](./images/v_2_3.png)\n",
    "![Alt text](./images/v_2_4.png)"
   ]
  },
  {
   "cell_type": "markdown",
   "metadata": {},
   "source": [
    "## [video 3](https://www.youtube.com/watch?v=EdvAHmIONMs&list=PL1YrgW7ROFofBqPGiWAmTqIwDc5SrzZrA&index=13)\n",
    "## Jacobian matrix "
   ]
  },
  {
   "cell_type": "markdown",
   "metadata": {},
   "source": [
    "![Alt text](./images/v_3_1.png)\n",
    "![Alt text](./images/v_3_2.png)\n",
    "![Alt text](./images/v_3_3.png)\n",
    "![Alt text](./images/v_3_4.png)\n",
    "![Alt text](./images/v_3_5.png)\n",
    "![Alt text](./images/v_3_6.png)"
   ]
  }
 ],
 "metadata": {
  "language_info": {
   "name": "python"
  }
 },
 "nbformat": 4,
 "nbformat_minor": 2
}
