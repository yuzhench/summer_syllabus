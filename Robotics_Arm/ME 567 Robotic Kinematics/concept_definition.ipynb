{
 "cells": [
  {
   "cell_type": "markdown",
   "metadata": {},
   "source": [
    "#  lecture 3"
   ]
  },
  {
   "cell_type": "markdown",
   "metadata": {},
   "source": [
    "## chinese meaning of the math defiition\n",
    "1. Determinant: 行列式\n",
    "2. Orthogonal Matrix: 行列式\n",
    "3.  singularity: 奇点\n",
    "4. Topological Fact: 拓扑事实\n",
    "5. Skew-Symmetric Matrices: 斜对称矩阵\n",
    "6. matrix exponential: 矩阵指数"
   ]
  },
  {
   "cell_type": "markdown",
   "metadata": {},
   "source": []
  },
  {
   "cell_type": "markdown",
   "metadata": {},
   "source": [
    "\n",
    "1. determinant value (1 or -1)\n",
    "    - A determinant of +1 indicates a proper rotation. This means the transformation preserves the orientation of space and does not include a reflection.\n",
    "\n",
    "    - A determinant of -1 indicates an improper rotation, which includes a reflection. A reflection changes the orientation of the space, such as flipping an object over a mirror plane.\n",
    "\n",
    "    - **Rotation without Reflection**: When we say that a rotation matrix \\( R \\) from \\( SO(3) \\) operates \"without any reflection,\" we specifically mean that \\( R \\) is an orthogonal matrix with a determinant of +1. Thus, it performs a pure rotation, preserving the handedness (left-handed or right-handed coordinate system) and orientation of space. It does not flip or mirror any part of the space as a reflection would.\n",
    "\n",
    "So, matrices in \\( SO(3) \\) are special because they describe how to rotate objects in three-dimensional space purely through rotation, without mirroring any part of the space.\n",
    "\n",
    "2. we will lose the singularity when the beta(Y) = 0 + or - K * pi  for the ZYZ Euler angle \n",
    "\n",
    "3. we will lose the singualrity when the sita(Y) = pi / 2 for the ZYX Euler angle\n",
    "\n"
   ]
  },
  {
   "cell_type": "markdown",
   "metadata": {},
   "source": []
  },
  {
   "cell_type": "markdown",
   "metadata": {},
   "source": [
    "# Lecture 4"
   ]
  },
  {
   "cell_type": "markdown",
   "metadata": {},
   "source": [
    "## chinese meaning of the math defiition\n",
    "1. Real Vector Space:实数向量空间\n",
    "2. Closure Over Linear Combinations of Elements:对元素的线性组合具有封闭性："
   ]
  },
  {
   "cell_type": "markdown",
   "metadata": {},
   "source": [
    "## defintion of academic terms\n",
    "1. **Closure**: \n",
    "封闭性意味着如果你对集合中的任何成员执行操作，结果也是同一集合中的成员。在向量空间的上下文中，这意味着从空间中取任何向量，并使用实数作为系数对它们进行组合，结果将始终是同一向量空间中的另一个向量\n",
    "\n",
    "2. **cross product by a vector is a linear operator**:\n",
    "### 操作的线性：\n",
    "\n",
    "- **可加性**：叉乘运算是可加的。这意味着对于任意两个向量 \\(\\mathbf{u}\\) 和 \\(\\mathbf{v}\\)，与固定向量 \\(\\mathbf{a}\\) 的叉乘满足：\n",
    "\n",
    "  $$\n",
    "  \\[\n",
    "  \\mathbf{a} \\times (\\mathbf{u} + \\mathbf{v}) = (\\mathbf{a} \\times \\mathbf{u}) + (\\mathbf{a} \\times \\mathbf{v})\n",
    "  \\]\n",
    "  $$\n",
    "\n",
    "  这个等式是因为叉乘对向量加法具有分配性质。\n",
    "\n",
    "- **齐次性**：叉乘对标量乘法是齐次的。如果 \\(c\\) 是一个标量，则：\n",
    "\n",
    "  \\[\n",
    "  \\mathbf{a} \\times (c\\mathbf{v}) = c(\\mathbf{a} \\times \\mathbf{v})\n",
    "  \\]\n",
    "\n",
    "  这个性质表明，首先将向量 \\(\\mathbf{v}\\) 乘以标量 \\(c\\)，然后与 \\(\\mathbf{a}\\) 叉乘，与先叉乘然后将结果乘以 \\(c\\) 是一样的。\n"
   ]
  },
  {
   "cell_type": "markdown",
   "metadata": {},
   "source": []
  }
 ],
 "metadata": {
  "language_info": {
   "name": "python"
  }
 },
 "nbformat": 4,
 "nbformat_minor": 2
}
