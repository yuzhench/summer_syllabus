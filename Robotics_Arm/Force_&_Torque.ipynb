{
 "cells": [
  {
   "cell_type": "markdown",
   "metadata": {},
   "source": [
    "# Notes"
   ]
  },
  {
   "cell_type": "markdown",
   "metadata": {},
   "source": [
    "## [video 1](https://www.youtube.com/watch?v=TT0tllWGrMY&list=PL1YrgW7ROFofBqPGiWAmTqIwDc5SrzZrA&index=16)\n",
    "\n",
    "![Alt text](./images/ft_1_1.png)\n",
    "![Alt text](./images/ft_1_2.png )\n",
    "![Alt text](./images/ft_1_3.png )\n",
    "![Alt text](./images/ft_1_4.png )"
   ]
  },
  {
   "cell_type": "markdown",
   "metadata": {},
   "source": [
    "## [video 2](https://www.youtube.com/watch?v=_qNyKOHQTss&list=PL1YrgW7ROFofBqPGiWAmTqIwDc5SrzZrA&index=16)"
   ]
  },
  {
   "cell_type": "markdown",
   "metadata": {},
   "source": [
    "![Alt text](./images/ft_2_1.png)\n",
    "![Alt text](./images/ft_2_2.png)\n",
    "![Alt text](./images/ft_2_3.png)"
   ]
  },
  {
   "cell_type": "markdown",
   "metadata": {},
   "source": []
  }
 ],
 "metadata": {
  "language_info": {
   "name": "python"
  }
 },
 "nbformat": 4,
 "nbformat_minor": 2
}
