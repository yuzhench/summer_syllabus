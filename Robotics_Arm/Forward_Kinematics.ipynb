{
 "cells": [
  {
   "cell_type": "markdown",
   "metadata": {},
   "source": [
    "# lecture notes"
   ]
  },
  {
   "cell_type": "markdown",
   "metadata": {},
   "source": [
    "## [video1](https://www.youtube.com/watch?v=svyhLDAoyKc&list=PL1YrgW7ROFofBqPGiWAmTqIwDc5SrzZrA&index=5)\n",
    "\n",
    "\n",
    "![Alt text](./images/fk_1_1.png)\n",
    "![Alt text](./images/fk_1_2.png)\n",
    "![Alt text](./images/fk_1_3.png)\n"
   ]
  },
  {
   "cell_type": "markdown",
   "metadata": {},
   "source": [
    "## [video2 ](https://www.youtube.com/watch?v=mO7JJxaVtkE )\n",
    "![Alt text](./images/fk_1.png)\n",
    "![Alt text](./images/fk_2.png)"
   ]
  },
  {
   "cell_type": "markdown",
   "metadata": {},
   "source": [
    "## [video 3 ](https://www.youtube.com/watch?v=mO7JJxaVtkE )\n",
    "![Alt text](./images/fk_3_1.png)\n",
    "![Alt text](./images/fk_3_2.png)\n",
    "![Alt text](./images/fk_3_3.png)\n",
    "![Alt text](./images/fk_3_4.png)"
   ]
  },
  {
   "cell_type": "markdown",
   "metadata": {},
   "source": []
  }
 ],
 "metadata": {
  "language_info": {
   "name": "python"
  }
 },
 "nbformat": 4,
 "nbformat_minor": 2
}
