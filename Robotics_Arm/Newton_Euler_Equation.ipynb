{
 "cells": [
  {
   "cell_type": "markdown",
   "metadata": {},
   "source": [
    "# <div align=\"center\"> physical base for rotation </div>"
   ]
  },
  {
   "cell_type": "markdown",
   "metadata": {},
   "source": [
    "## Key Equations in Rotational Dynamics\n",
    "\n",
    "1. **Angular Velocity and Angular Acceleration**:\n",
    "   $$\\alpha = \\frac{d\\omega}{dt}$$\n",
    "   - Where $\\alpha$ is the angular acceleration, $\\omega$ is the angular velocity, and $\\frac{d\\omega}{dt}$ is the rate of change of angular velocity.\n",
    "\n",
    "2. **Torque**:\n",
    "   $$\\tau = I \\cdot \\alpha$$\n",
    "   - Here, $\\tau$ represents the torque, $I$ is the moment of inertia, and $\\alpha$ is the angular acceleration. This equation is analogous to Newton’s second law (Force = mass × acceleration) but for rotation.\n",
    "\n",
    "3. **Angular Momentum**:\n",
    "   $$L = I \\cdot \\omega$$\n",
    "   - $L$ is the angular momentum, $I$ is the moment of inertia, and $\\omega$ is the angular velocity.\n",
    "\n",
    "4. **Conservation of Angular Momentum**:\n",
    "   $$L_{\\text{initial}} = L_{\\text{final}}$$\n",
    "   - Angular momentum is conserved in a closed system where no external torques are acting.\n",
    "\n",
    "5. **Relationship between Torque and Angular Momentum**:\n",
    "   $$\\tau = \\frac{dL}{dt}$$\n",
    "   - This equation states that the torque is equal to the rate of change of angular momentum.\n",
    "\n",
    "These equations are fundamental in understanding the dynamics of rotating systems and are used extensively in physics and engineering to analyze motion involving rotations.\n"
   ]
  },
  {
   "cell_type": "markdown",
   "metadata": {},
   "source": [
    "## How to calcuate the moment of inertia (I)"
   ]
  },
  {
   "cell_type": "markdown",
   "metadata": {},
   "source": [
    "### General Reasoning Process for Calculating Moment of Inertia\n",
    "\n",
    "1. **Define the Geometry and Mass Distribution**: Determine the shape of the object and how its mass is distributed. This step often involves considering the object as a composition of smaller mass elements.\n",
    "\n",
    "2. **Choose the Axis of Rotation**: The moment of inertia depends crucially on the axis of rotation. For symmetrical objects, standard axes through the center of mass are typically used.\n",
    "\n",
    "3. **Set Up the Integral (or Sum for Discrete Masses)**: If the body is continuous, set up an integral that sums the products of mass elements and the square of their distances from the axis of rotation. For discrete systems, this would be a summation.\n",
    "\n",
    "4. **Solve the Integral or Summation**: Execute the calculation to find the moment of inertia, which involves integration or summation depending on the continuous or discrete nature of the mass distribution.\n",
    "\n",
    "### Calculating the Moment of Inertia for a Disk\n",
    "\n",
    "For a solid disk rotating around an axis perpendicular to its face through its center (like a spinning CD or wheel), the moment of inertia is given by:\n",
    "$$\n",
    "I = \\frac{1}{2} M R^2\n",
    "$$\n",
    "where \\( M \\) is the mass of the disk and \\( R \\) is its radius.\n",
    "\n",
    "#### Detailed Calculation:\n",
    "- **Assumption**: The disk is uniform, meaning its mass is evenly distributed.\n",
    "\n",
    "- **Integration Setup**: Consider a small mass element at a distance \\( r \\) from the center, with a thickness \\( dr \\).\n",
    "\n",
    "- **Mass of an Element**: The mass \\( dm \\) of a ring at radius \\( r \\) and thickness \\( dr \\) is given by \\( dm = \\rho \\cdot 2\\pi r \\cdot dr \\), where \\( \\rho \\) (mass per unit area) is \\( \\frac{M}{\\pi R^2} \\).\n",
    "\n",
    "- **Expression for Moment of Inertia**:\n",
    "  $$\n",
    "  dI = r^2 \\cdot dm = r^2 \\cdot \\rho \\cdot 2\\pi r \\cdot dr = \\frac{2M}{R^2} \\cdot r^3 \\cdot dr\n",
    "  $$\n",
    "  Integrating this from \\( r = 0 \\) to \\( R \\):\n",
    "  $$\n",
    "  I = \\int_0^R \\frac{2M}{R^2} \\cdot r^3 \\cdot dr = \\frac{2M}{R^2} \\cdot \\left[\\frac{r^4}{4}\\right]_0^R = \\frac{1}{2} M R^2\n",
    "  $$\n",
    "\n",
    "This formula arises from integrating the squared distance of each infinitesimal mass element (which in this case forms a ring) from the axis of rotation, across the entire volume of the disk.\n"
   ]
  },
  {
   "cell_type": "markdown",
   "metadata": {},
   "source": []
  }
 ],
 "metadata": {
  "language_info": {
   "name": "python"
  }
 },
 "nbformat": 4,
 "nbformat_minor": 2
}
