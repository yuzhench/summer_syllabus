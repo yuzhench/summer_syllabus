{
 "cells": [
  {
   "cell_type": "markdown",
   "metadata": {},
   "source": [
    "# Lecture 1 \n",
    "\n",
    "## 1. how to define a GPU function \n",
    "- syntax: \n",
    "- ```c\n",
    "        __global__ void helloGPU()\n",
    "    {\n",
    "    printf(\"Hello from the GPU.\\n\");\n",
    "    }\n",
    "    ```\n",
    "- details: \n",
    "    - `__glonal__` : \n",
    "        - when defined a CUDA kernel (a function executes on GPU), you need to use the `__global__` keyword to declare it. This keyword informs the compiler that the function is a CUDA kernel that can be called from the CPU and executed in parallel on the GPU. \n",
    "## 2. how to call the defined CUDA kernel \n",
    "- syntax: \n",
    "    - ```c\n",
    "        helloGPU<<<1, 1>>>();\n",
    "        ```\n",
    "- details:\n",
    "    - Grid Size: The first number inside the triple chevrons (<<<...>>>) is 1, indicating that there is one block in the grid. A grid can consist of multiple blocks.\n",
    "    - Block Size: The second number is also 1, indicating that there is one thread in each block. A block can consist of multiple threads. "
   ]
  },
  {
   "cell_type": "markdown",
   "metadata": {},
   "source": []
  }
 ],
 "metadata": {
  "language_info": {
   "name": "python"
  }
 },
 "nbformat": 4,
 "nbformat_minor": 2
}
