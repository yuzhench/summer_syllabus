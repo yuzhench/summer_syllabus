{
 "cells": [
  {
   "cell_type": "markdown",
   "metadata": {},
   "source": [
    "## lecture 1: Docker concept\n",
    "\n",
    "1. container definition:\n",
    "    -   package applications with all the necessary dependencies and configuration\n",
    "    -   easy to share \n",
    "2. where the container live: \n",
    "    -   container repository \n",
    "    -   it has private and public container (docker hub)"
   ]
  },
  {
   "cell_type": "markdown",
   "metadata": {},
   "source": [
    "## lecture 2:   Docker Demo \n",
    "\n",
    "1. techical definition of the container: \n",
    "    -   layers of linux based image, application image with configuration\n",
    "    -   layers of stacked images on top of each other \n",
    "        -   the base layer of a container is usually linux base image: Alpine:3.10\n",
    "            - details about alpine: \"Alpine\" usually refers to Alpine Linux, which is a lightweight and security-oriented Linux distribution. Alpine Linux is known for its minimalism, with a small footprint and minimal package dependencies. This makes it ideal for containerized environments where efficiency and security are paramount. Many Docker images are based on Alpine Linux as a foundation because it provides a clean and efficient starting point for building containerized applications.\n",
    "        -   one the top of the base image is the Application image\n",
    "2. usually if you want to use a public offical docker, you can dirrectly run \n",
    "    -   docker run [name of the docker]:[version number]\n",
    "3. want to see all the docker containers:\n",
    "    -   docker ps\n",
    "4. the distanction between inage and container:\n",
    "    -   image: the actual package \n",
    "    -   container: when i pull tha images on my local machine and i actually started, so the application inside actually starts that create the container environment \n",
    "\n",
    "    - when you just pull it from online it is an image, but when you run it then it becomes a container \n",
    "    - one docker only has one container and only has one image \n",
    "        - one image has multiple layers \n",
    "5. when you download the some docker image with the differnt version, since some of the layers are the same, so the second download time will be faster than the first time"
   ]
  },
  {
   "cell_type": "markdown",
   "metadata": {},
   "source": [
    "## Lecture 3: How to downloaf the docker "
   ]
  },
  {
   "cell_type": "markdown",
   "metadata": {},
   "source": [
    "## Lecture 4: 8 basic bocer commands \n",
    "\n",
    "1. command: \n",
    "    - docker ps: will list all the current docker container \n",
    "    - docker ps -a: will show you every dockers that are running or not running\n",
    "    - docker images: will list all the dock images \n",
    "    - docker run redis: redis is a docker, and after you run this command, you will start a new container. Actually docker run = docker pull + docker start\n",
    "    - docker stop [the container ID]: you can stop the container\n",
    "    - docker start [the conatainer ID]: to start a container\n",
    "2. container port vs host port: \n",
    "    - your host machine(your laptop) has lots of port, you will have conflict if you open 2 port5000 in your machines, but it's ok that two containers lisent to the same port in your computer as loing as you bind them to two differnt ports from your host machine \n",
    "3. how to bind the host port to the container port \n",
    "    - when you have two different version of redis images, they are still have the same port. \n",
    "    - so we need to use \" docker rubn -p6000:6379 \" to manually connect the p6000 port in the host to the 6379 port of the container "
   ]
  },
  {
   "cell_type": "markdown",
   "metadata": {},
   "source": [
    "## Lecture 5: docker logs & docker exec \n",
    "\n",
    "1. when you run the docker image, you can specify the name of the container: \n",
    "    - docker run -d -p60001:6379 --name redis-older redis:4.0 \n",
    "        - -d: detach mould \n",
    "        - -p6001:6379 set a host port to it \n",
    "        - -name: set the custermized name \n",
    "        - redit:4.0: the name of the image \n",
    "\n",
    "2. how to go inside the container: \n",
    "    - docker exec -it cae903a74202 /bin/bash \n",
    "        - /bin/bash: This is the path to the Bash executable binary within the container. Bash is a commonly used Unix shell, and it provides a command-line interface where you can interactively execute commands and run scripts.\n",
    "        - if you want to go to the home directory: cd /\n",
    "        - if you want to check the environmnet variable: env \n",
    "\n",
    "3. each time when you run the \"docker run\" you will have a new container\n",
    "    - if you want to remove the docker container: docker rm [the name of the docker conmtainer or the ID]"
   ]
  },
  {
   "cell_type": "markdown",
   "metadata": {},
   "source": [
    "## Lecture 6: docker vs virtual machine\n",
    "\n",
    "1. How the operating system is made up: \n",
    "    - it has 2 layers: \n",
    "        - Applications layer \n",
    "        - OS Kernel \n",
    "    - eg: there are lots of linux distributions such as ubuntu..., there graphic interface is different, there file system maybe different even if they are build on the same kernel --> linux kernel but they implement different applications \n",
    "2. what part of the operating system does them virtualized; \n",
    "    - docker: virtualize the Application layer  + it use the host kernel \n",
    "    - virtual machine: virtualize the Application and OS kernel \n",
    "    - the result: \n",
    "        - the docker image is smaller \n",
    "        - docker container runs faster \n",
    "        - VM of any OS can run on any OS host \n",
    "            - the shortcome of the docker is: you can't run a linux image on a windows kernel "
   ]
  },
  {
   "cell_type": "markdown",
   "metadata": {},
   "source": []
  },
  {
   "cell_type": "markdown",
   "metadata": {},
   "source": [
    "## how to write your own docker file \n",
    "[youtueb link](https://www.youtube.com/watch?v=1ymi24PeF3M)\n",
    "\n",
    "### check the operating system version: \n",
    "- cat /etc/os-release\n",
    "\n",
    "### the structure of a common docker file: \n",
    "- FROM: specify the base image \n",
    "- RUN: execute commands during the image build process\n",
    "- ENV: set environment variables \n",
    "- COPY: copies local files and directories to the image\n",
    "- EXPOSE: specify the port to be exposed for the docker container\n",
    "- ADD: (some instruction similer to COPY)\n",
    "- WORKDIR: set the current working directory\n",
    "\n",
    "\n",
    "### when you run the RUN command \n",
    "- there are two ways \n",
    "    - shell way: RUN echo hello\n",
    "    - exec wat: RUN [\"/bin/sh\", \"-c\", \"echo hello\"]\n",
    "\n",
    "### how to check the user of a docker file\n",
    "- command: docker run testimg whoami \n",
    "    - the default result would be: root "
   ]
  },
  {
   "cell_type": "markdown",
   "metadata": {},
   "source": [
    "### how you start from an empty dockerfile; \n",
    "1. crearte a dockerfile \n",
    "2. terminal run: <code>docker build -t [name of your image] . </code>\n",
    "    - -t: the t stand for tag, means you can custermize the name, the directory later in the command \n",
    "    - after this you will have an image created \n",
    "3. terminal run: <code>docker run -it --name [name of your container] [name of the image] </code>\n",
    "    - after this you will have a container created \n",
    "    - i: stand for interactive mode, It allows you to keep STDIN open even if not attached. It provides an interactive session to the container, enabling you to interact with it via the terminal.\n",
    "    - a: stand for attach, so you can see the result from the container in you local machine terminal\n",
    "4. terminal run: <code>docker start -ia [docker name] </code>\n",
    "\n",
    "5. if you want to open multile terminal inside the docker:\n",
    "    open a new termial and type: <code>docker exec -it <container_id> bash </code>\n",
    "    - the bash at the end specifies that you want to start a Bash shell inside the Docker container identified by <container_id>"
   ]
  },
  {
   "cell_type": "markdown",
   "metadata": {},
   "source": [
    "### really easy dockerfile: "
   ]
  },
  {
   "cell_type": "code",
   "execution_count": null,
   "metadata": {
    "vscode": {
     "languageId": "plaintext"
    }
   },
   "outputs": [],
   "source": [
    "#choose the basic image \n",
    "FROM ubuntu:20.04\n",
    "\n",
    "#install python3\n",
    "RUN apt-get update && \\\n",
    "    apt-get install -y python3 python3-pip\n",
    "\n",
    "#run the command on the top of the alpine:3.8 basic image\n",
    "RUN apt-get update && apt-get install --no-install-recommends -y \\\n",
    "    vim  \\\n",
    "    nano \\ \n",
    "    && useradd -m -s /bin/bash yuzhen\n",
    "    # echo \"yuzhen ALL=(ALL) NOPASSWD:ALL\" >> /etc/sudoers\n",
    "\n",
    " \n",
    " \n",
    "USER yuzhen \n",
    "\n",
    "\n",
    "# define the start working directory (the default directory is \"/\")\n",
    "WORKDIR /home/yuzhen \n",
    "\n",
    "\n",
    "ENV app_port = 5000 \\ \n",
    "    ABC = XYZ\n",
    "\n",
    "COPY app.py /home/yuzhen/code/\n",
    " "
   ]
  },
  {
   "cell_type": "markdown",
   "metadata": {},
   "source": [
    "### Docker file for the number determination project "
   ]
  },
  {
   "cell_type": "code",
   "execution_count": null,
   "metadata": {
    "vscode": {
     "languageId": "plaintext"
    }
   },
   "outputs": [],
   "source": [
    "#use the ubuntu 20.04 with the cuda as the base image\n",
    "FROM nvidia/cuda:12.1.0-cudnn8-devel-ubuntu20.04\n",
    "#use the python3\n",
    "RUN apt-get update && apt-get install -y  python3 \\\n",
    "\tpython3-pip\n",
    "\n",
    "#set the user\n",
    "RUN useradd -m -s /bin/bash yuzhen\n",
    "RUN apt-get update && apt-get install --no-install-recommends -y \\\n",
    "    vim  \\\n",
    "    nano \\\n",
    "\tsudo \n",
    "#give the permission to the user \n",
    "RUN echo \"yuzhen ALL=(ALL) NOPASSWD: ALL\" >> /etc/sudoers\n",
    "\n",
    "\n",
    "#specify the user\n",
    "USER yuzhen\n",
    "\n",
    "#set the working space\n",
    "WORKDIR /home/yuzhen\n",
    "\n",
    "#copy the files to the container folders\n",
    "#copy the code\n",
    "# COPY /home/yuzhen/Desktop/ml_learn/number_detection_project/model.py /home/yuzhen/code/\n",
    "# COPY /home/yuzhen/Desktop/ml_learn/number_detection_project/mnist_number_detection.py /home/yuzhen\n",
    "# copy the requirnment\n",
    "COPY  --chown=yuzhen:yuzhen requirements.txt /home/yuzhen/util/\n",
    "\n",
    "# run the pip command to store the nessesary package\n",
    "RUN pip install --user -r /home/yuzhen/util/requirements.txt\n",
    "\n",
    "#environment\n",
    "ENV MEANING=learn_how_to_write_dockerfile\n",
    "\n",
    "\n",
    "#-v /home/yuzhen/Desktop/ml_learn/number_detection_project/model.py:/home/yuzhen/code/model.py"
   ]
  },
  {
   "cell_type": "markdown",
   "metadata": {},
   "source": [
    "### run.sh file used to build a docker container based on an docker image"
   ]
  },
  {
   "cell_type": "code",
   "execution_count": null,
   "metadata": {
    "vscode": {
     "languageId": "plaintext"
    }
   },
   "outputs": [],
   "source": [
    "#check if there already exist a container called number_container\n",
    "# container_index=\"$(docker ps -a -q -f name=number_countainer)\"\n",
    "# echo $container_index\n",
    "# if [[\"$container_index\"]]; then \n",
    "docker rm -f number_countainer\n",
    "# fi\n",
    "\n",
    "docker run -it \\\n",
    "    -v /home/yuzhen/Desktop/ml_learn/number_detection_project/model.py:/home/yuzhen/code/model.py \\\n",
    "    -v /home/yuzhen/Desktop/ml_learn/number_detection_project/mnist_number_detection.py:/home/yuzhen/code/mnist_number_detection.py \\\n",
    "    -v /home/yuzhen/Desktop/ml_learn/number_detection_project/test.py:/home/yuzhen/code/test.py \\\n",
    "    --name number_countainer \\\n",
    "    number_img       "
   ]
  },
  {
   "cell_type": "markdown",
   "metadata": {},
   "source": [
    "### flages in the run.sh \n",
    "1. -v allowed the user to see the loacal file in the docker container \n",
    "\n",
    "### <span style=\"color:red\"> ERROR: </span>\n",
    "<span style=\"color:red\">\n",
    "1. don't know how to write if statement in the shell language \n",
    "</span>"
   ]
  },
  {
   "cell_type": "markdown",
   "metadata": {},
   "source": [
    "## <span style=\"color:green\"> RESULT </span>\n",
    "1. can run the number detection project in side the container \n",
    "2. can let the docker install the bessesary packages based on the requirement.txt\n",
    "\n",
    "## <span style=\"color:red\"> ERROR </span>\n",
    "1. nvidia-smi can't be runned inside the container ---the problem should be the cuda setup is wrong\n",
    "2. find the nvcc problem in the .bashrc would influcne the local CUDA, comment out can solve the problem here, but when we stwich to the other conda env which need the nvcc, we have to uncomment it, don't know how to solve this problem. \n",
    "\n"
   ]
  },
  {
   "cell_type": "markdown",
   "metadata": {},
   "source": []
  }
 ],
 "metadata": {
  "language_info": {
   "name": "python"
  }
 },
 "nbformat": 4,
 "nbformat_minor": 2
}
