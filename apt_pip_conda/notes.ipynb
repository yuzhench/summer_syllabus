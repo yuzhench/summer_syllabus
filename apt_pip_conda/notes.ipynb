{
 "cells": [
  {
   "cell_type": "markdown",
   "metadata": {},
   "source": [
    "## apt-get install \n",
    "## sudo apt-get install \n",
    "## pip install\n",
    "## conda install "
   ]
  },
  {
   "cell_type": "markdown",
   "metadata": {},
   "source": [
    "### Pip: (package installer for Python)  \n",
    "\n",
    "### <span style=\"color:green\"> what is anaconda: </span>\n",
    "- it has it's own package manager: conda \n",
    "- However you can also use **pip** to install any additional libraries which are not available in the anaconda package manager\n",
    "\n",
    "### <span style=\"color:green\"> Conda and Pip: Different Package Managers </span>\n",
    "- Conda: It installs packages from the Anaconda repository (or other conda repositories), which are often pre-compiled and optimized for performance.\n",
    "\n",
    "- Pip: The package installer for Python packages from the Python Package Index (PyPI). It is the default tool for installing Python packages that are not available in the conda repositories.\n",
    "\n",
    "### <span style=\"color:green\">Why Use Both in a Conda Environment? </span> \n",
    "1. #### Package Availability:\n",
    "    - since not all the python package is available in the conda package manager \n",
    "\n",
    "2. #### Specific Versions:\n",
    "    - Sometimes, the version of a package available via conda might not be the latest, or might not be the specific version you need. In such cases, you might prefer to use pip to install a different version.\n",
    "\n",
    "3. #### Supplementary Tools:\n",
    "    - Some packages might have dependencies that are better handled by conda, while others (especially more recent or niche packages) might only be available via pip.\n",
    "    - we can consider it as conda update slower \n",
    "\n",
    "4. #### Categories of the package \n",
    "    - pip can only download the python package \n",
    "    - conda is a more general package manager that can manage software packages and environments across various languages and platforms.\n",
    "        - conda install gcc git ...\n",
    "        \n",
    "### <span style=\"color:green\">How the pip know the download path for the specific conda env</span>\n",
    "\n",
    "- 1. When you activate a conda environment using conda activate myenv, conda modifies the PATH environment variable to point to the bin/Script directories of the environment. This ensures that when you run pip, you are using the pip executable from the active conda environment.\n",
    "\n",
    "- 2. the path will like this: ~/anaconda3/envs/myenv/lib/python3.8/site-packages/. \n",
    "\n",
    "- 3. <code>which pip</code>: directory where the pip executable is located\n",
    "- 4. <code>pip show pip</code>: will show the package location if you use the pip install (the location is same as when you use conda install)"
   ]
  },
  {
   "cell_type": "markdown",
   "metadata": {},
   "source": [
    "### apt-get install: \n"
   ]
  },
  {
   "cell_type": "markdown",
   "metadata": {},
   "source": []
  }
 ],
 "metadata": {
  "language_info": {
   "name": "python"
  }
 },
 "nbformat": 4,
 "nbformat_minor": 2
}
