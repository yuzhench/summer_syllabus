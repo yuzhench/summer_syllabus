{
 "cells": [
  {
   "cell_type": "code",
   "execution_count": 1,
   "metadata": {},
   "outputs": [],
   "source": [
    "import torch "
   ]
  },
  {
   "cell_type": "markdown",
   "metadata": {},
   "source": [
    "### **unsqueeze()**: change the dimension of the tensor but content is the same "
   ]
  },
  {
   "cell_type": "code",
   "execution_count": 7,
   "metadata": {},
   "outputs": [
    {
     "name": "stdout",
     "output_type": "stream",
     "text": [
      "original tensor:  tensor([1, 2, 3, 4, 5])\n",
      "original shape:  torch.Size([5])\n",
      "[1,5] tensor:  tensor([[1, 2, 3, 4, 5]])\n",
      "[1,5] shape:  torch.Size([1, 5])\n",
      "[5,1] tensor: \n",
      " tensor([[1],\n",
      "        [2],\n",
      "        [3],\n",
      "        [4],\n",
      "        [5]])\n",
      "[5,1] shape:  torch.Size([5, 1])\n"
     ]
    }
   ],
   "source": [
    "n = torch.tensor([1,2,3,4,5])\n",
    "print(\"original tensor: \", n)\n",
    "print(\"original shape: \", n.shape)\n",
    "# want to change the shape from [5] to [1,5]\n",
    "# --> need to add a new dimention in the dim0\n",
    "n0 = torch.unsqueeze(n,0) \n",
    "print(\"[1,5] tensor: \", n0)\n",
    "print(\"[1,5] shape: \", n0.shape)\n",
    "# want to change the shape from [5] to [5,1]\n",
    "# --> need to add a new dimention in the dim1\n",
    "n1 = torch.unsqueeze(n,1) \n",
    "print(\"[5,1] tensor: \\n\", n1)\n",
    "print(\"[5,1] shape: \", n1.shape)\n"
   ]
  },
  {
   "cell_type": "markdown",
   "metadata": {},
   "source": [
    "## expand(): copy one or more dimentions to create a new matrix "
   ]
  },
  {
   "cell_type": "code",
   "execution_count": 21,
   "metadata": {},
   "outputs": [
    {
     "name": "stdout",
     "output_type": "stream",
     "text": [
      "n_55 shape:  torch.Size([5, 5])\n",
      "n_55 tensor: \n",
      " tensor([[1, 2, 3, 4, 5],\n",
      "        [1, 2, 3, 4, 5],\n",
      "        [1, 2, 3, 4, 5],\n",
      "        [1, 2, 3, 4, 5],\n",
      "        [1, 2, 3, 4, 5]])\n",
      "torch.Size([5])\n",
      "tensor([1, 2, 3, 4, 5])\n",
      "torch.Size([5, 5])\n",
      "tensor([[1, 2, 3, 4, 5],\n",
      "        [1, 2, 3, 4, 5],\n",
      "        [1, 2, 3, 4, 5],\n",
      "        [1, 2, 3, 4, 5],\n",
      "        [1, 2, 3, 4, 5]])\n",
      "tensor([[1, 1, 1, 1, 1],\n",
      "        [2, 2, 2, 2, 2],\n",
      "        [3, 3, 3, 3, 3],\n",
      "        [4, 4, 4, 4, 4],\n",
      "        [5, 5, 5, 5, 5]])\n"
     ]
    }
   ],
   "source": [
    "#if i want to create a 5*5 matrix with the same row \n",
    "#--> use the n0, and then expand \n",
    "n_55=n0.expand(5,-1)\n",
    "print(\"n_55 shape: \", n_55.shape)\n",
    "print(\"n_55 tensor: \\n\", n_55)\n",
    "\n",
    "# we don't need to first unsqueeze the tensor from 1 dim to 2 dim and then do the expand. \n",
    "n_test = n.expand(5,5)\n",
    "print(n.shape)\n",
    "print(n)\n",
    "print(n_test.shape)\n",
    "print(n_test)\n",
    "#but if we don't do unsqueeze, we can't let the 1,2,3,4,5 to be the column \n",
    "n_55_col = n1.expand(-1,5)\n",
    "print(n_55_col)"
   ]
  },
  {
   "cell_type": "markdown",
   "metadata": {},
   "source": [
    "## **cat()** choose a dimension and add the elements in that dimension together."
   ]
  },
  {
   "cell_type": "code",
   "execution_count": 24,
   "metadata": {},
   "outputs": [
    {
     "name": "stdout",
     "output_type": "stream",
     "text": [
      "tensor([[-0.0250, -0.0272,  0.8918, -0.0250, -0.0272,  0.8918, -0.0250, -0.0272,\n",
      "          0.8918],\n",
      "        [-1.1294,  0.7870,  0.7758, -1.1294,  0.7870,  0.7758, -1.1294,  0.7870,\n",
      "          0.7758]])\n",
      "tensor([[-0.0250, -0.0272,  0.8918],\n",
      "        [-1.1294,  0.7870,  0.7758],\n",
      "        [-0.0250, -0.0272,  0.8918],\n",
      "        [-1.1294,  0.7870,  0.7758],\n",
      "        [-0.0250, -0.0272,  0.8918],\n",
      "        [-1.1294,  0.7870,  0.7758]])\n"
     ]
    }
   ],
   "source": [
    "x = torch.randn(2, 3)\n",
    "x1 = torch.cat((x,x,x),1) \n",
    "print(x1)\n",
    "##--> the 1 here means add the dimestion 1 elemets together \n",
    "## the shape of x is (2,3), if you add 3 of x together --> (2,3+3+3) which is (2,9)\n",
    "\n",
    "x2=torch.cat((x,x,x), 0)\n",
    "print(x2)\n",
    "## add the dimension 0 together: so the result would be (2+2+2,3) which is (6,3)"
   ]
  },
  {
   "cell_type": "markdown",
   "metadata": {},
   "source": [
    "## **sum()** add the elements in one dimention together. add the elements in thar dim together, and the shape of the matrix after sum will become smaller the sum target dim will disapear "
   ]
  },
  {
   "cell_type": "code",
   "execution_count": 31,
   "metadata": {},
   "outputs": [
    {
     "name": "stdout",
     "output_type": "stream",
     "text": [
      "tensor([[ 1.2766,  0.1574,  0.7136],\n",
      "        [ 0.1817, -0.9922, -1.7358]])\n",
      "torch.Size([2, 3])\n",
      "tensor([ 2.1476, -2.5463])\n",
      "torch.Size([2])\n",
      "tensor([ 1.4583, -0.8348, -1.0222])\n",
      "torch.Size([3])\n",
      "tensor([ 2.1476, -2.5463])\n"
     ]
    }
   ],
   "source": [
    "a = torch.randn(2,3)\n",
    "print(a)\n",
    "print(a.shape)\n",
    "## add the dim 1 elements together \n",
    "## the shape after sum() will become [2]\n",
    "a1 = torch.sum(a,1)\n",
    "print(a1) \n",
    "print(a1.shape)\n",
    "\n",
    "a0 = torch.sum(a,0)\n",
    "print(a0)\n",
    "print(a0.shape)\n",
    "\n",
    "a2 = torch.sum(a,-1) ## -1 mean add the last dimension\n",
    "print(a2)\n"
   ]
  },
  {
   "cell_type": "code",
   "execution_count": null,
   "metadata": {},
   "outputs": [],
   "source": []
  }
 ],
 "metadata": {
  "kernelspec": {
   "display_name": "RSS",
   "language": "python",
   "name": "python3"
  },
  "language_info": {
   "codemirror_mode": {
    "name": "ipython",
    "version": 3
   },
   "file_extension": ".py",
   "mimetype": "text/x-python",
   "name": "python",
   "nbconvert_exporter": "python",
   "pygments_lexer": "ipython3",
   "version": "3.8.18"
  }
 },
 "nbformat": 4,
 "nbformat_minor": 2
}
