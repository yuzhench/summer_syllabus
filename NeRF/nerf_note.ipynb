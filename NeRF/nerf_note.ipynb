{
 "cells": [
  {
   "cell_type": "markdown",
   "metadata": {},
   "source": [
    "[Lecture link](https://www.youtube.com/watch?v=CRlN-cYFxTk)"
   ]
  },
  {
   "cell_type": "markdown",
   "metadata": {},
   "source": [
    "## SIRENS (Sinusoidal Representation Networks)\n",
    " - use the sinusoidal activation functions, specifically the sine function, instead of more common activation functions like ReLU or sigmoid. \n",
    "\n",
    " ## overfit a nerual network to a single data point\n",
    " - not a bad thing here\n",
    " - definition in Nerf: In the context of NeRF, overfitting occurs when the model too closely learns the details and noise present in the specific set of training images, to the extent that it fails to generalize well to new viewpoints or lighting conditions not covered during training.\n",
    " - advantage & disadvantage:\n",
    "    - 1. High Detail at the Cost of Generalization: Overfitting a NeRF to a set of images may result in highly detailed and accurate reconstructions for those specific images. However, this might lead to less accurate reconstructions from viewpoints that were not included in the training set.\n",
    "    - 2. testing and debugging: Like in traditional neural networks, you can use overfitting in NeRF as a diagnostic tool. If a NeRF fails to overfit a small, controlled set of images, this might indicate issues with the training procedure or model configuration.\n",
    "\n",
    "## it is one nural network that is fit to one scene \n",
    "- so what we have is a bunch of layers and all the neural networks care about that specific scene \n",
    "- if we want to render a new scene, we take a new neural network \n",
    "- we overfit this neural network to this particular scene \n",
    "- the goal is: the tree itself is going to be in the weights of this neurtal network so the weights of the neural network now represent the scene  \n",
    "\n",
    "## the input and output of the nural network  \n",
    "- input:\n",
    "    - 1. 3D space position: x y z \n",
    "    - 2. viewing direction: d \n",
    "- output:\n",
    "    - 1. what is the color at that location: C\n",
    "    - 2. density: is there anything at that location \n",
    "- <img src=\"slides/nerf1.png\" width=\"30%\" height=\"30%\">\n",
    "\n",
    "## if i choose a image frame:\n",
    "- 1. for each pixel i need to send a ray through the scene \n",
    "- 2. i need to query(查询) this model at each location\n",
    "    - through the ray there are lots of points, for each point i will ask the neural network if there is something there, if there is then what the color am i gonna to see. \n",
    "    - then what you get should be a density curve in 2D space \n",
    "    - <img src=\"slides/nerf2.png\" width=\"30%\" height=\"30%\">\n",
    "- 3. same point whould have different color since the \"d\" would be different, depend on where you look from  \n",
    "\n",
    "## this model can also solve the transparent \n",
    "- 1. if you have 2 walls of glasses one is blue and the other is red \n",
    "- 2. 2 walles glasses will mix together since the density of both glass wall are not 100% \n",
    "- <img src=\"slides/nerf3.png\" width=\"30%\" height=\"30%\">\n"
   ]
  }
 ],
 "metadata": {
  "language_info": {
   "name": "python"
  }
 },
 "nbformat": 4,
 "nbformat_minor": 2
}
