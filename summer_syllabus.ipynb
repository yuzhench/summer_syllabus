{
 "cells": [
  {
   "cell_type": "markdown",
   "metadata": {},
   "source": [
    "# summer learning syllabus \n",
    "\n",
    "## I. machine learning part: (old basic model)\n",
    "1. ### material about CVM and linear regression\n",
    "    - **goal**: focus on the implementationi and how to use the library function\n",
    "    - **result**: based on the input data can draw the doundry line correctly  \n",
    "        - [open the csv_&_linear_regression project](notes.ipynb) \n",
    "        \n",
    "\n",
    "## II. computer vision area: \n",
    "1. ### mnist number recognition: \n",
    "    - **resource**:\n",
    "        - (https://www.google.com/search?q=mnist+number+recognition&oq=&aqs=chrome.1.69i59i450l8.336779j0j15&sourceid=chrome&ie=UTF-8)\n",
    "        - (https://nextjournal.com/gkoehler/pytorch-mnist)\n",
    "\n",
    "\n",
    "    - **goal**: implement the whole project by following the website \n",
    "    - **result**: \n",
    "        - terminal output: \n",
    "            - the size of the test_dataset is:  10000\n",
    "            - the correct_prediction num is: 9786\n",
    "            - the wrong_prediction num is:  214\n",
    "            - the total_prediction num is:  10000\n",
    "            - the correct rate is: 97.86%\n",
    "        - the project:\n",
    "            - [open the number_detection project](/home/yuzhen/Desktop/ml_learn/number_detection_project/note.ipynb)\n",
    "\n",
    "\n",
    "2. ###  human active detection: \n",
    "    - **resource**:(https://github.com/CV-ZMH/human-action-recognition)\n",
    "    - **goal**: \n",
    "        - setup the project on my local computer first\n",
    "        - understand the structure of the model  \n",
    "        - try to repace the example model with my own model \n",
    "    - **result**:\n",
    "3. ### Natural Language Processing and Large Language Models: \n",
    "    - **resource**:\n",
    "        - (https://www.youtube.com/playlist?list=PLs8w1Cdi-zvYskDS2icIItfZgxclApVLv) --> thisis the video explamtion\n",
    "        - (https://www.datacamp.com/tutorial/building-a-transformer-with-py-torch) --> this is an examle of how to implement it. \n",
    "        - (https://www.kaggle.com/code/arunmohan003/transformer-from-scratch-using-pytorch) --> other choice \n",
    "    - **goal**:\n",
    "        - watch 5 videos to have a basic understanding of large language model \n",
    "        - follow the second website link to implement a transfermer example and then understand it. \n",
    "    - **result**: \n",
    "4. ### reinforcement learning:\n",
    "    - **resource**:\n",
    "        - (https://www.reddit.com/r/reinforcementlearning/comments/auz2oz/beginner_rl_project_ideas/) --> reddit learning path recommendation \n",
    "        - (https://www.coursera.org/my-learning?myLearningTab=IN_PROGRESS) --> adam coursera course \n",
    "    - **goal**:\n",
    "        - watch the lecture first to understand the basic idea of reinforcement learning \n",
    "        - try to implecemnt a samll project to understand this topic (haven't find a good source yet)\n",
    "\n",
    "5. ### Diffusion:\n",
    "    - **papers**: \n",
    "        - [Diffusion Policy](https://diffusion-policy.cs.columbia.edu/diffusion_policy_2023.pdf) \n",
    "        - [Planning with Diffusion for Flexible Behavior Synthesis](https://arxiv.org/pdf/2205.09991)\n",
    "        - [DDPM](https://arxiv.org/pdf/2006.11239)\n",
    "            - [torch implementation example](https://medium.com/@brianpulfer/enerating-images-with-ddpms-a-pytorch-implementation-cef5a2ba8cb1)\n",
    "\n",
    "6. ### Gussian Splatting: \n",
    "    - **paper**:\n",
    "        - [3D Gaussian Splatting for Real-Time Radiance Field Rendering](https://arxiv.org/pdf/2308.04079)"
   ]
  },
  {
   "cell_type": "markdown",
   "metadata": {},
   "source": [
    "# shell and terminal skills \n",
    "\n",
    "\n",
    "\n",
    "\n",
    "\n",
    "## 1. cuda toolkit (nvcc) \n",
    "\n",
    "## 2. cmake file \n",
    "\n",
    "## 3. how the docker works: \n",
    "- youtube video notes:\n",
    "    - [youtube_link](https://www.youtube.com/playlist?list=PLy7NrYWoggjzfAHlUusx2wuDwfCrmJYcs)\n",
    "    - [notes](docker_self_learn/notes.ipynb)"
   ]
  },
  {
   "cell_type": "markdown",
   "metadata": {},
   "source": [
    "# computer vision area topics \n",
    "- ## 1. how the pointcload works \n",
    "- ## 2. how the rendering works \n"
   ]
  },
  {
   "cell_type": "markdown",
   "metadata": {},
   "source": []
  }
 ],
 "metadata": {
  "language_info": {
   "name": "python"
  }
 },
 "nbformat": 4,
 "nbformat_minor": 2
}
